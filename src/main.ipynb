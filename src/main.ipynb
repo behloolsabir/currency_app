{
 "metadata": {
  "language_info": {
   "codemirror_mode": {
    "name": "ipython",
    "version": 3
   },
   "file_extension": ".py",
   "mimetype": "text/x-python",
   "name": "python",
   "nbconvert_exporter": "python",
   "pygments_lexer": "ipython3",
   "version": "3.9.4"
  },
  "orig_nbformat": 4,
  "kernelspec": {
   "name": "python3",
   "display_name": "Python 3.9.4 64-bit ('allianz': conda)"
  },
  "interpreter": {
   "hash": "8f19e19fb84bebe3ed92cdfb936df9a3308010ab487a52f95e94d5afacb9c8fe"
  }
 },
 "nbformat": 4,
 "nbformat_minor": 2,
 "cells": [
  {
   "cell_type": "code",
   "execution_count": 2,
   "metadata": {},
   "outputs": [],
   "source": [
    "import requests\n",
    "import pandas as pd "
   ]
  },
  {
   "cell_type": "code",
   "execution_count": 3,
   "metadata": {},
   "outputs": [],
   "source": [
    "base = 'eur'\n",
    "url1 = f'https://cdn.jsdelivr.net/gh/fawazahmed0/currency-api@1/latest/currencies/{base}.json'\n",
    "url2 = f'https://api.frankfurter.app/latest?from={base}'"
   ]
  },
  {
   "cell_type": "code",
   "execution_count": 24,
   "metadata": {},
   "outputs": [
    {
     "output_type": "stream",
     "name": "stdout",
     "text": [
      "200\n"
     ]
    }
   ],
   "source": [
    "x = requests.get(url1)\n",
    "df1 = pd.DataFrame(x.json())\n",
    "print(x.status_code)"
   ]
  },
  {
   "cell_type": "code",
   "execution_count": 6,
   "metadata": {},
   "outputs": [
    {
     "output_type": "stream",
     "name": "stdout",
     "text": [
      "200\n"
     ]
    }
   ],
   "source": [
    "x = requests.get(url2)\n",
    "print(x.status_code)\n",
    "df2 = pd.DataFrame(x.json())"
   ]
  },
  {
   "cell_type": "code",
   "execution_count": 30,
   "metadata": {},
   "outputs": [],
   "source": [
    "df1.index = df1.index.str.upper()"
   ]
  },
  {
   "cell_type": "code",
   "execution_count": 31,
   "metadata": {},
   "outputs": [],
   "source": [
    "df1 = df1.rename({'eur': 'rates'}, axis=1)  # new method"
   ]
  },
  {
   "cell_type": "code",
   "execution_count": 32,
   "metadata": {},
   "outputs": [
    {
     "output_type": "execute_result",
     "data": {
      "text/plain": [
       "           date       rates\n",
       "AED  2021-06-15    4.451824\n",
       "AFN  2021-06-15   95.261180\n",
       "ALL  2021-06-15  122.863895\n",
       "AMD  2021-06-15  626.578597\n",
       "ANG  2021-06-15    2.175994"
      ],
      "text/html": "<div>\n<style scoped>\n    .dataframe tbody tr th:only-of-type {\n        vertical-align: middle;\n    }\n\n    .dataframe tbody tr th {\n        vertical-align: top;\n    }\n\n    .dataframe thead th {\n        text-align: right;\n    }\n</style>\n<table border=\"1\" class=\"dataframe\">\n  <thead>\n    <tr style=\"text-align: right;\">\n      <th></th>\n      <th>date</th>\n      <th>rates</th>\n    </tr>\n  </thead>\n  <tbody>\n    <tr>\n      <th>AED</th>\n      <td>2021-06-15</td>\n      <td>4.451824</td>\n    </tr>\n    <tr>\n      <th>AFN</th>\n      <td>2021-06-15</td>\n      <td>95.261180</td>\n    </tr>\n    <tr>\n      <th>ALL</th>\n      <td>2021-06-15</td>\n      <td>122.863895</td>\n    </tr>\n    <tr>\n      <th>AMD</th>\n      <td>2021-06-15</td>\n      <td>626.578597</td>\n    </tr>\n    <tr>\n      <th>ANG</th>\n      <td>2021-06-15</td>\n      <td>2.175994</td>\n    </tr>\n  </tbody>\n</table>\n</div>"
     },
     "metadata": {},
     "execution_count": 32
    }
   ],
   "source": [
    "df1.head()"
   ]
  },
  {
   "cell_type": "code",
   "execution_count": 33,
   "metadata": {},
   "outputs": [
    {
     "output_type": "execute_result",
     "data": {
      "text/plain": [
       "           date   rates\n",
       "AUD  2021-06-15  1.5742\n",
       "BGN  2021-06-15  1.9558\n",
       "BRL  2021-06-15  6.1394\n",
       "CAD  2021-06-15  1.4758\n",
       "CHF  2021-06-15  1.0899"
      ],
      "text/html": "<div>\n<style scoped>\n    .dataframe tbody tr th:only-of-type {\n        vertical-align: middle;\n    }\n\n    .dataframe tbody tr th {\n        vertical-align: top;\n    }\n\n    .dataframe thead th {\n        text-align: right;\n    }\n</style>\n<table border=\"1\" class=\"dataframe\">\n  <thead>\n    <tr style=\"text-align: right;\">\n      <th></th>\n      <th>date</th>\n      <th>rates</th>\n    </tr>\n  </thead>\n  <tbody>\n    <tr>\n      <th>AUD</th>\n      <td>2021-06-15</td>\n      <td>1.5742</td>\n    </tr>\n    <tr>\n      <th>BGN</th>\n      <td>2021-06-15</td>\n      <td>1.9558</td>\n    </tr>\n    <tr>\n      <th>BRL</th>\n      <td>2021-06-15</td>\n      <td>6.1394</td>\n    </tr>\n    <tr>\n      <th>CAD</th>\n      <td>2021-06-15</td>\n      <td>1.4758</td>\n    </tr>\n    <tr>\n      <th>CHF</th>\n      <td>2021-06-15</td>\n      <td>1.0899</td>\n    </tr>\n  </tbody>\n</table>\n</div>"
     },
     "metadata": {},
     "execution_count": 33
    }
   ],
   "source": [
    "df2.head()[['date', 'rates']]"
   ]
  },
  {
   "cell_type": "code",
   "execution_count": 35,
   "metadata": {},
   "outputs": [],
   "source": [
    "df_all = df1.join(df2[['date', 'rates']], lsuffix='_left', rsuffix='_right')"
   ]
  },
  {
   "cell_type": "code",
   "execution_count": 37,
   "metadata": {},
   "outputs": [],
   "source": [
    "df_all.to_csv('df_combined.csv')"
   ]
  },
  {
   "cell_type": "code",
   "execution_count": 42,
   "metadata": {},
   "outputs": [],
   "source": [
    "result = pd.concat([df1, df2], axis=1, join=\"inner\")"
   ]
  },
  {
   "cell_type": "code",
   "execution_count": 43,
   "metadata": {},
   "outputs": [
    {
     "output_type": "execute_result",
     "data": {
      "text/plain": [
       "Index(['date', 'rates', 'amount', 'base', 'date', 'rates'], dtype='object')"
      ]
     },
     "metadata": {},
     "execution_count": 43
    }
   ],
   "source": [
    "result.columns"
   ]
  },
  {
   "cell_type": "code",
   "execution_count": 44,
   "metadata": {},
   "outputs": [
    {
     "output_type": "execute_result",
     "data": {
      "text/plain": [
       "           date         rates  amount base        date       rates\n",
       "AUD  2021-06-15      1.571749     1.0  EUR  2021-06-15      1.5742\n",
       "BGN  2021-06-15      1.955277     1.0  EUR  2021-06-15      1.9558\n",
       "BRL  2021-06-15      6.133075     1.0  EUR  2021-06-15      6.1394\n",
       "CAD  2021-06-15      1.471519     1.0  EUR  2021-06-15      1.4758\n",
       "CHF  2021-06-15      1.090231     1.0  EUR  2021-06-15      1.0899\n",
       "CNY  2021-06-15      7.755060     1.0  EUR  2021-06-15      7.7502\n",
       "CZK  2021-06-15     25.430008     1.0  EUR  2021-06-15     25.4500\n",
       "DKK  2021-06-15      7.436917     1.0  EUR  2021-06-15      7.4362\n",
       "GBP  2021-06-15      0.858987     1.0  EUR  2021-06-15      0.8615\n",
       "HKD  2021-06-15      9.406987     1.0  EUR  2021-06-15      9.3991\n",
       "HRK  2021-06-15      7.492425     1.0  EUR  2021-06-15      7.4883\n",
       "HUF  2021-06-15    350.084838     1.0  EUR  2021-06-15    352.0800\n",
       "IDR  2021-06-15  17251.181675     1.0  EUR  2021-06-15  17254.0000\n",
       "ILS  2021-06-15      3.933911     1.0  EUR  2021-06-15      3.9273\n",
       "INR  2021-06-15     88.693552     1.0  EUR  2021-06-15     88.8000\n",
       "ISK  2021-06-15    147.230639     1.0  EUR  2021-06-15    147.2000\n",
       "JPY  2021-06-15    133.409284     1.0  EUR  2021-06-15    133.2800\n",
       "KRW  2021-06-15   1354.963035     1.0  EUR  2021-06-15   1354.1000\n",
       "MXN  2021-06-15     24.175191     1.0  EUR  2021-06-15     24.1980\n",
       "MYR  2021-06-15      4.985456     1.0  EUR  2021-06-15      4.9849\n",
       "NOK  2021-06-15     10.076191     1.0  EUR  2021-06-15     10.0823\n",
       "NZD  2021-06-15      1.696249     1.0  EUR  2021-06-15      1.6987\n",
       "PHP  2021-06-15     58.017816     1.0  EUR  2021-06-15     58.2030\n",
       "PLN  2021-06-15      4.519028     1.0  EUR  2021-06-15      4.5235\n",
       "RON  2021-06-15      4.923161     1.0  EUR  2021-06-15      4.9243\n",
       "RUB  2021-06-15     87.336929     1.0  EUR  2021-06-15     87.2400\n",
       "SEK  2021-06-15     10.090450     1.0  EUR  2021-06-15     10.0858\n",
       "SGD  2021-06-15      1.608157     1.0  EUR  2021-06-15      1.6063\n",
       "THB  2021-06-15     37.716640     1.0  EUR  2021-06-15     37.7160\n",
       "TRY  2021-06-15     10.262514     1.0  EUR  2021-06-15     10.3586\n",
       "USD  2021-06-15      1.211974     1.0  EUR  2021-06-15      1.2108\n",
       "ZAR  2021-06-15     16.705248     1.0  EUR  2021-06-15     16.6800"
      ],
      "text/html": "<div>\n<style scoped>\n    .dataframe tbody tr th:only-of-type {\n        vertical-align: middle;\n    }\n\n    .dataframe tbody tr th {\n        vertical-align: top;\n    }\n\n    .dataframe thead th {\n        text-align: right;\n    }\n</style>\n<table border=\"1\" class=\"dataframe\">\n  <thead>\n    <tr style=\"text-align: right;\">\n      <th></th>\n      <th>date</th>\n      <th>rates</th>\n      <th>amount</th>\n      <th>base</th>\n      <th>date</th>\n      <th>rates</th>\n    </tr>\n  </thead>\n  <tbody>\n    <tr>\n      <th>AUD</th>\n      <td>2021-06-15</td>\n      <td>1.571749</td>\n      <td>1.0</td>\n      <td>EUR</td>\n      <td>2021-06-15</td>\n      <td>1.5742</td>\n    </tr>\n    <tr>\n      <th>BGN</th>\n      <td>2021-06-15</td>\n      <td>1.955277</td>\n      <td>1.0</td>\n      <td>EUR</td>\n      <td>2021-06-15</td>\n      <td>1.9558</td>\n    </tr>\n    <tr>\n      <th>BRL</th>\n      <td>2021-06-15</td>\n      <td>6.133075</td>\n      <td>1.0</td>\n      <td>EUR</td>\n      <td>2021-06-15</td>\n      <td>6.1394</td>\n    </tr>\n    <tr>\n      <th>CAD</th>\n      <td>2021-06-15</td>\n      <td>1.471519</td>\n      <td>1.0</td>\n      <td>EUR</td>\n      <td>2021-06-15</td>\n      <td>1.4758</td>\n    </tr>\n    <tr>\n      <th>CHF</th>\n      <td>2021-06-15</td>\n      <td>1.090231</td>\n      <td>1.0</td>\n      <td>EUR</td>\n      <td>2021-06-15</td>\n      <td>1.0899</td>\n    </tr>\n    <tr>\n      <th>CNY</th>\n      <td>2021-06-15</td>\n      <td>7.755060</td>\n      <td>1.0</td>\n      <td>EUR</td>\n      <td>2021-06-15</td>\n      <td>7.7502</td>\n    </tr>\n    <tr>\n      <th>CZK</th>\n      <td>2021-06-15</td>\n      <td>25.430008</td>\n      <td>1.0</td>\n      <td>EUR</td>\n      <td>2021-06-15</td>\n      <td>25.4500</td>\n    </tr>\n    <tr>\n      <th>DKK</th>\n      <td>2021-06-15</td>\n      <td>7.436917</td>\n      <td>1.0</td>\n      <td>EUR</td>\n      <td>2021-06-15</td>\n      <td>7.4362</td>\n    </tr>\n    <tr>\n      <th>GBP</th>\n      <td>2021-06-15</td>\n      <td>0.858987</td>\n      <td>1.0</td>\n      <td>EUR</td>\n      <td>2021-06-15</td>\n      <td>0.8615</td>\n    </tr>\n    <tr>\n      <th>HKD</th>\n      <td>2021-06-15</td>\n      <td>9.406987</td>\n      <td>1.0</td>\n      <td>EUR</td>\n      <td>2021-06-15</td>\n      <td>9.3991</td>\n    </tr>\n    <tr>\n      <th>HRK</th>\n      <td>2021-06-15</td>\n      <td>7.492425</td>\n      <td>1.0</td>\n      <td>EUR</td>\n      <td>2021-06-15</td>\n      <td>7.4883</td>\n    </tr>\n    <tr>\n      <th>HUF</th>\n      <td>2021-06-15</td>\n      <td>350.084838</td>\n      <td>1.0</td>\n      <td>EUR</td>\n      <td>2021-06-15</td>\n      <td>352.0800</td>\n    </tr>\n    <tr>\n      <th>IDR</th>\n      <td>2021-06-15</td>\n      <td>17251.181675</td>\n      <td>1.0</td>\n      <td>EUR</td>\n      <td>2021-06-15</td>\n      <td>17254.0000</td>\n    </tr>\n    <tr>\n      <th>ILS</th>\n      <td>2021-06-15</td>\n      <td>3.933911</td>\n      <td>1.0</td>\n      <td>EUR</td>\n      <td>2021-06-15</td>\n      <td>3.9273</td>\n    </tr>\n    <tr>\n      <th>INR</th>\n      <td>2021-06-15</td>\n      <td>88.693552</td>\n      <td>1.0</td>\n      <td>EUR</td>\n      <td>2021-06-15</td>\n      <td>88.8000</td>\n    </tr>\n    <tr>\n      <th>ISK</th>\n      <td>2021-06-15</td>\n      <td>147.230639</td>\n      <td>1.0</td>\n      <td>EUR</td>\n      <td>2021-06-15</td>\n      <td>147.2000</td>\n    </tr>\n    <tr>\n      <th>JPY</th>\n      <td>2021-06-15</td>\n      <td>133.409284</td>\n      <td>1.0</td>\n      <td>EUR</td>\n      <td>2021-06-15</td>\n      <td>133.2800</td>\n    </tr>\n    <tr>\n      <th>KRW</th>\n      <td>2021-06-15</td>\n      <td>1354.963035</td>\n      <td>1.0</td>\n      <td>EUR</td>\n      <td>2021-06-15</td>\n      <td>1354.1000</td>\n    </tr>\n    <tr>\n      <th>MXN</th>\n      <td>2021-06-15</td>\n      <td>24.175191</td>\n      <td>1.0</td>\n      <td>EUR</td>\n      <td>2021-06-15</td>\n      <td>24.1980</td>\n    </tr>\n    <tr>\n      <th>MYR</th>\n      <td>2021-06-15</td>\n      <td>4.985456</td>\n      <td>1.0</td>\n      <td>EUR</td>\n      <td>2021-06-15</td>\n      <td>4.9849</td>\n    </tr>\n    <tr>\n      <th>NOK</th>\n      <td>2021-06-15</td>\n      <td>10.076191</td>\n      <td>1.0</td>\n      <td>EUR</td>\n      <td>2021-06-15</td>\n      <td>10.0823</td>\n    </tr>\n    <tr>\n      <th>NZD</th>\n      <td>2021-06-15</td>\n      <td>1.696249</td>\n      <td>1.0</td>\n      <td>EUR</td>\n      <td>2021-06-15</td>\n      <td>1.6987</td>\n    </tr>\n    <tr>\n      <th>PHP</th>\n      <td>2021-06-15</td>\n      <td>58.017816</td>\n      <td>1.0</td>\n      <td>EUR</td>\n      <td>2021-06-15</td>\n      <td>58.2030</td>\n    </tr>\n    <tr>\n      <th>PLN</th>\n      <td>2021-06-15</td>\n      <td>4.519028</td>\n      <td>1.0</td>\n      <td>EUR</td>\n      <td>2021-06-15</td>\n      <td>4.5235</td>\n    </tr>\n    <tr>\n      <th>RON</th>\n      <td>2021-06-15</td>\n      <td>4.923161</td>\n      <td>1.0</td>\n      <td>EUR</td>\n      <td>2021-06-15</td>\n      <td>4.9243</td>\n    </tr>\n    <tr>\n      <th>RUB</th>\n      <td>2021-06-15</td>\n      <td>87.336929</td>\n      <td>1.0</td>\n      <td>EUR</td>\n      <td>2021-06-15</td>\n      <td>87.2400</td>\n    </tr>\n    <tr>\n      <th>SEK</th>\n      <td>2021-06-15</td>\n      <td>10.090450</td>\n      <td>1.0</td>\n      <td>EUR</td>\n      <td>2021-06-15</td>\n      <td>10.0858</td>\n    </tr>\n    <tr>\n      <th>SGD</th>\n      <td>2021-06-15</td>\n      <td>1.608157</td>\n      <td>1.0</td>\n      <td>EUR</td>\n      <td>2021-06-15</td>\n      <td>1.6063</td>\n    </tr>\n    <tr>\n      <th>THB</th>\n      <td>2021-06-15</td>\n      <td>37.716640</td>\n      <td>1.0</td>\n      <td>EUR</td>\n      <td>2021-06-15</td>\n      <td>37.7160</td>\n    </tr>\n    <tr>\n      <th>TRY</th>\n      <td>2021-06-15</td>\n      <td>10.262514</td>\n      <td>1.0</td>\n      <td>EUR</td>\n      <td>2021-06-15</td>\n      <td>10.3586</td>\n    </tr>\n    <tr>\n      <th>USD</th>\n      <td>2021-06-15</td>\n      <td>1.211974</td>\n      <td>1.0</td>\n      <td>EUR</td>\n      <td>2021-06-15</td>\n      <td>1.2108</td>\n    </tr>\n    <tr>\n      <th>ZAR</th>\n      <td>2021-06-15</td>\n      <td>16.705248</td>\n      <td>1.0</td>\n      <td>EUR</td>\n      <td>2021-06-15</td>\n      <td>16.6800</td>\n    </tr>\n  </tbody>\n</table>\n</div>"
     },
     "metadata": {},
     "execution_count": 44
    }
   ],
   "source": [
    "result"
   ]
  },
  {
   "cell_type": "code",
   "execution_count": null,
   "metadata": {},
   "outputs": [],
   "source": []
  }
 ]
}